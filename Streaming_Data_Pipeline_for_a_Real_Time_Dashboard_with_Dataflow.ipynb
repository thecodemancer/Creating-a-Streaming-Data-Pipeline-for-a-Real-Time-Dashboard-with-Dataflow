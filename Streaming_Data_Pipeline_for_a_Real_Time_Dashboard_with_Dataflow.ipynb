{
  "nbformat": 4,
  "nbformat_minor": 0,
  "metadata": {
    "colab": {
      "provenance": [],
      "toc_visible": true,
      "authorship_tag": "ABX9TyPScl6lpPVgMAFOi8AB2sjz"
    },
    "kernelspec": {
      "name": "python3",
      "display_name": "Python 3"
    },
    "language_info": {
      "name": "python"
    }
  },
  "cells": [
    {
      "cell_type": "markdown",
      "source": [
        "<img src=\"https://github.com/thecodemancer/Creating-a-Streaming-Data-Pipeline-for-a-Real-Time-Dashboard-with-Dataflow/blob/35d23d0eefcc5e390b91952bd52047a5ed2c8b31/images/data-architecture.png?raw=true\" />\n",
        "\n",
        "# Streaming Data Pipeline for a Real-Time Dashboard with Dataflow"
      ],
      "metadata": {
        "id": "TNOK-zqkcDiK"
      }
    },
    {
      "cell_type": "markdown",
      "source": [
        "## Overview\n",
        "You own a fleet of New York City taxi cabs and are looking to monitor how well your business is doing in real-time. You build a streaming data pipeline to capture taxi revenue, passenger count, ride status, and much more, and then visualize the results in a management dashboard."
      ],
      "metadata": {
        "id": "NBJCzQWYcOTQ"
      }
    },
    {
      "cell_type": "markdown",
      "source": [
        "## Objectives\n",
        "\n",
        "- Create a Dataflow job from a template\n",
        "- Subscribe to a Pub/Sub topic\n",
        "- Stream a Dataflow pipeline into BigQuery\n",
        "- Monitor a Dataflow pipeline in BigQuery\n",
        "- Analyze results with SQL\n",
        "- Visualize key metrics in Looker Studio"
      ],
      "metadata": {
        "id": "k_BSA7afcS1_"
      }
    },
    {
      "cell_type": "markdown",
      "source": [
        "## Task 1. Source a pre-created Pub/Sub topic and create a BigQuery dataset\n",
        "\n",
        "We'll be using an extract of the [NYC Taxi & Limousine Commission’s open dataset](https://data.cityofnewyork.us/).\n",
        "\n",
        "In **Cloud Shell**, run the following command to create the Pub/Sub topic."
      ],
      "metadata": {
        "id": "J5FZnAwRcgRn"
      }
    },
    {
      "cell_type": "code",
      "source": [
        "cd ~\n",
        "\n",
        "# Install sdk\n",
        "sudo apt-get install google-cloud-sdk\n",
        "\n",
        "# Install sdk\n",
        "sudo apt-get install jq -y\n",
        "\n",
        "# Download Source Data\n",
        "gsutil cp gs://cloud-training/bdml/taxisrcdata/realtime1000.json  realtime1000.json\n",
        " \n",
        "# Create PubSub Topic\n",
        "gcloud pubsub topics create taxirides-realtime --message-retention-duration=7d\n",
        "\n",
        "# Send messages to PubSub\n",
        "jq -c '.[]' realtime1000.json | xargs -t -0  -d '\\n'  -I  {} gcloud pubsub topics publish taxirides-realtime --message {}"
      ],
      "metadata": {
        "id": "gGjRiDDOl-_L"
      },
      "execution_count": null,
      "outputs": []
    },
    {
      "cell_type": "code",
      "source": [
        "bq --location=us-west1 mk taxirides"
      ],
      "metadata": {
        "id": "4JttRAg0ds5p"
      },
      "execution_count": null,
      "outputs": []
    },
    {
      "cell_type": "markdown",
      "source": [
        "Run this command to create the taxirides.realtime table (empty schema that you will stream into later)."
      ],
      "metadata": {
        "id": "F5mX7s_HdgLg"
      }
    },
    {
      "cell_type": "code",
      "source": [
        "bq --location=us-west1 mk \\\n",
        "--time_partitioning_field timestamp \\\n",
        "--schema ride_id:string,point_idx:integer,latitude:float,longitude:float,\\\n",
        "timestamp:timestamp,meter_reading:float,meter_increment:float,ride_status:string,\\\n",
        "passenger_count:integer -t taxirides.realtime"
      ],
      "metadata": {
        "id": "H2IUj-PGdwex"
      },
      "execution_count": null,
      "outputs": []
    },
    {
      "cell_type": "markdown",
      "source": [
        "<img src=\"images/10.png?raw=true\" />"
      ],
      "metadata": {
        "id": "x_shhoOizW6M"
      }
    },
    {
      "cell_type": "markdown",
      "source": [
        "## Task 2. Create a Cloud Storage bucket\n",
        "\n",
        "In Cloud Shell, run the following command to create the bucket"
      ],
      "metadata": {
        "id": "Bw1BH4hBclRI"
      }
    },
    {
      "cell_type": "code",
      "source": [
        "gcloud storage buckets create gs://qwiklabs-gcp-01-62340484a253 --location=US"
      ],
      "metadata": {
        "id": "iPosx0vvjDEj"
      },
      "execution_count": null,
      "outputs": []
    },
    {
      "cell_type": "markdown",
      "source": [
        "<img src=\"https://github.com/thecodemancer/Creating-a-Streaming-Data-Pipeline-for-a-Real-Time-Dashboard-with-Dataflow/blob/35d23d0eefcc5e390b91952bd52047a5ed2c8b31/images/20.png?raw=true\" />"
      ],
      "metadata": {
        "id": "DnH0osDpzpO9"
      }
    },
    {
      "cell_type": "markdown",
      "source": [
        "## Task 3. Set up a Dataflow Pipeline\n",
        "\n",
        "In Cloud Shell, run the following command to create a dataflow job"
      ],
      "metadata": {
        "id": "dpjRa0TtcoDg"
      }
    },
    {
      "cell_type": "code",
      "source": [
        "gcloud dataflow jobs run streaming-taxi-pipeline  \\\n",
        "--gcs-location gs://dataflow-templates-us-central1/latest/PubSub_to_BigQuery  \\\n",
        "--region us-central1  \\\n",
        "--max-workers 2  \\\n",
        "--num-workers 1  \\\n",
        "--staging-location gs://qwiklabs-gcp-01-62340484a253/tmp/  \\\n",
        "--parameters inputTopic=projects/qwiklabs-gcp-01-62340484a253/topics/taxirides-realtime,outputTableSpec=qwiklabs-gcp-01-62340484a253:taxirides.realtime"
      ],
      "metadata": {
        "id": "3sOmOTRDknYH"
      },
      "execution_count": null,
      "outputs": []
    },
    {
      "cell_type": "markdown",
      "source": [
        "<img src=\"https://github.com/thecodemancer/Creating-a-Streaming-Data-Pipeline-for-a-Real-Time-Dashboard-with-Dataflow/blob/35d23d0eefcc5e390b91952bd52047a5ed2c8b31/images/40.png?raw=true\" />"
      ],
      "metadata": {
        "id": "h2iyEs1SzGXO"
      }
    },
    {
      "cell_type": "markdown",
      "source": [
        "## Task 4. Analyze the taxi data using BigQuery"
      ],
      "metadata": {
        "id": "HKnCRfoDcq5x"
      }
    },
    {
      "cell_type": "markdown",
      "source": [
        "In the Query Editor inside BigQuery, type the following, and then click Run:"
      ],
      "metadata": {
        "id": "exuU81mfeTWm"
      }
    },
    {
      "cell_type": "code",
      "source": [
        "SELECT * FROM taxirides.realtime LIMIT 10"
      ],
      "metadata": {
        "id": "CDM4WQNIeWxt"
      },
      "execution_count": null,
      "outputs": []
    },
    {
      "cell_type": "markdown",
      "source": [
        "**Note**: If no records are returned, wait another minute and re-run the above query (Dataflow takes 3-5 minutes to setup the stream).\n",
        "\n",
        "<img src=\"https://github.com/thecodemancer/Creating-a-Streaming-Data-Pipeline-for-a-Real-Time-Dashboard-with-Dataflow/blob/35d23d0eefcc5e390b91952bd52047a5ed2c8b31/images/50.png?raw=true\" />\n",
        "\n",
        "<img src=\"https://github.com/thecodemancer/Creating-a-Streaming-Data-Pipeline-for-a-Real-Time-Dashboard-with-Dataflow/blob/35d23d0eefcc5e390b91952bd52047a5ed2c8b31/images/60.png?raw=true\" />\n",
        "\n",
        "<img src=\"https://github.com/thecodemancer/Creating-a-Streaming-Data-Pipeline-for-a-Real-Time-Dashboard-with-Dataflow/blob/35d23d0eefcc5e390b91952bd52047a5ed2c8b31/images/70.png?raw=true\" />"
      ],
      "metadata": {
        "id": "FJPpFNNDeYsR"
      }
    },
    {
      "cell_type": "markdown",
      "source": [
        "## Task 5. Perform aggregations on the stream for reporting\n",
        "\n",
        "Copy and paste the following query, and then click Run."
      ],
      "metadata": {
        "id": "BWRwE5jmctGo"
      }
    },
    {
      "cell_type": "code",
      "source": [
        "WITH streaming_data AS (\n",
        "SELECT\n",
        "  timestamp,\n",
        "  TIMESTAMP_TRUNC(timestamp, HOUR, 'UTC') AS hour,\n",
        "  TIMESTAMP_TRUNC(timestamp, MINUTE, 'UTC') AS minute,\n",
        "  TIMESTAMP_TRUNC(timestamp, SECOND, 'UTC') AS second,\n",
        "  ride_id,\n",
        "  latitude,\n",
        "  longitude,\n",
        "  meter_reading,\n",
        "  ride_status,\n",
        "  passenger_count\n",
        "FROM\n",
        "  taxirides.realtime\n",
        "ORDER BY timestamp DESC\n",
        "LIMIT 1000\n",
        ")\n",
        "# calculate aggregations on stream for reporting:\n",
        "SELECT\n",
        " ROW_NUMBER() OVER() AS dashboard_sort,\n",
        " minute,\n",
        " COUNT(DISTINCT ride_id) AS total_rides,\n",
        " SUM(meter_reading) AS total_revenue,\n",
        " SUM(passenger_count) AS total_passengers\n",
        "FROM streaming_data\n",
        "GROUP BY minute, timestamp"
      ],
      "metadata": {
        "id": "WZItT_R5elNo"
      },
      "execution_count": null,
      "outputs": []
    },
    {
      "cell_type": "markdown",
      "source": [
        "**Note:** Ensure Dataflow is registering data in BigQuery before proceeding to the next task.\n",
        "\n",
        "The result shows key metrics by the minute for every taxi drop-off.\n",
        "\n",
        "Click **Save > Save query**.\n",
        "\n",
        "In the Save query dialog, in the **Name** field, type **My Saved Query**.\n",
        "\n",
        "Click **Save**.\n",
        "\n",
        "<img src=\"https://github.com/thecodemancer/Creating-a-Streaming-Data-Pipeline-for-a-Real-Time-Dashboard-with-Dataflow/blob/35d23d0eefcc5e390b91952bd52047a5ed2c8b31/images/80.png?raw=true\" />"
      ],
      "metadata": {
        "id": "SWW8XYQFep-Q"
      }
    },
    {
      "cell_type": "markdown",
      "source": [
        "## Task 6. Stop the Dataflow Job\n",
        "\n",
        "In this task, you stop the Dataflow job to free up resources for your project.\n",
        "\n",
        "In the Cloud console, in the **Navigation menu**, click **Dataflow**.\n",
        "\n",
        "Click the **streaming-taxi-pipeline**, or the new job name.\n",
        "\n",
        "Click **Stop**, and then select **Cancel > Stop Job**."
      ],
      "metadata": {
        "id": "R_67Vk2scvGh"
      }
    },
    {
      "cell_type": "markdown",
      "source": [],
      "metadata": {
        "id": "WZZGUj1-e5aA"
      }
    },
    {
      "cell_type": "markdown",
      "source": [
        "## Task 7. Create a real-time dashboard\n",
        "\n",
        "<img src=\"https://github.com/thecodemancer/Creating-a-Streaming-Data-Pipeline-for-a-Real-Time-Dashboard-with-Dataflow/blob/35d23d0eefcc5e390b91952bd52047a5ed2c8b31/images/90.png?raw=true\" />"
      ],
      "metadata": {
        "id": "0TLhmshPcw7R"
      }
    },
    {
      "cell_type": "markdown",
      "source": [
        "## Task 8. Create a time series dashboard\n",
        "\n",
        "<img src=\"https://github.com/thecodemancer/Creating-a-Streaming-Data-Pipeline-for-a-Real-Time-Dashboard-with-Dataflow/blob/35d23d0eefcc5e390b91952bd52047a5ed2c8b31/images/100.png?raw=true\" />\n",
        "\n",
        "<img src=\"https://github.com/thecodemancer/Creating-a-Streaming-Data-Pipeline-for-a-Real-Time-Dashboard-with-Dataflow/blob/35d23d0eefcc5e390b91952bd52047a5ed2c8b31/images/110.png?raw=true\" />\n",
        "\n",
        "<img src=\"https://github.com/thecodemancer/Creating-a-Streaming-Data-Pipeline-for-a-Real-Time-Dashboard-with-Dataflow/blob/35d23d0eefcc5e390b91952bd52047a5ed2c8b31/images/120.png?raw=true\" />\n"
      ],
      "metadata": {
        "id": "QDEEPocMcyxo"
      }
    },
    {
      "cell_type": "markdown",
      "source": [
        "## Further reading\n",
        "\n",
        "- [jq](https://stedolan.github.io/jq/)\n",
        "- [Pub/Sub](https://cloud.google.com/pubsub/)\n",
        "- [Dataflow](https://cloud.google.com/dataflow/)\n",
        "- [Cloud Storage](https://cloud.google.com/storage/)\n",
        "- [BigQuery](https://cloud.google.com/bigquery/)\n",
        "- [Looker Studio](https://cloud.google.com/looker-studio)\n"
      ],
      "metadata": {
        "id": "o4qnwpyFcIj4"
      }
    },
    {
      "cell_type": "markdown",
      "source": [
        "---\n",
        "If you made it this far, follow [David Regalado](https://beacons.ai/davidregalado) for more code!"
      ],
      "metadata": {
        "id": "lzVV3o3fMich"
      }
    }
  ]
}
